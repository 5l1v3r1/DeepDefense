{
 "cells": [
  {
   "cell_type": "code",
   "execution_count": 2,
   "metadata": {},
   "outputs": [],
   "source": [
    "from preprocess_dataset import standardised_X as X, dummy_Y as Y"
   ]
  },
  {
   "cell_type": "code",
   "execution_count": 3,
   "metadata": {},
   "outputs": [],
   "source": [
    "import pandas as pd\n",
    "import numpy as np"
   ]
  },
  {
   "cell_type": "code",
   "execution_count": 4,
   "metadata": {},
   "outputs": [],
   "source": [
    "from keras.models import Sequential, load_model\n",
    "from keras.layers import Dense, LSTM, Bidirectional\n",
    "from sklearn.model_selection import train_test_split\n",
    "from keras.utils.np_utils import to_categorical"
   ]
  },
  {
   "cell_type": "code",
   "execution_count": 5,
   "metadata": {},
   "outputs": [
    {
     "name": "stdout",
     "output_type": "stream",
     "text": [
      "9679795\n",
      "(9679795, 5)\n",
      "29\n"
     ]
    }
   ],
   "source": [
    "print(X.shape[0])\n",
    "print(Y.shape)\n",
    "print(len(X[1]))"
   ]
  },
  {
   "cell_type": "code",
   "execution_count": null,
   "metadata": {},
   "outputs": [],
   "source": [
    "features = len(X[0])\n",
    "samples = X.shape[0]\n",
    "train_len = 50\n",
    "input_len = samples - train_len\n",
    "input = np.zeros((samples - train_len, train_len, features))\n",
    "\n",
    "for i in range(input_len):\n",
    "    temp = np.zeros((train_len, features))\n",
    "    for j in range(i, i + train_len - 1):\n",
    "        temp[j-i] = X[j]\n",
    "    input[i] = temp"
   ]
  },
  {
   "cell_type": "code",
   "execution_count": 130,
   "metadata": {},
   "outputs": [],
   "source": [
    "output_len = samples - train_len\n",
    "output_features = Y.shape[1]\n",
    "output = np.zeros((samples - train_len, train_len, output_features))\n",
    "output.shape\n",
    "\n",
    "for i in range(output_len):\n",
    "    temp = np.zeros((train_len, output_features))\n",
    "    for j in range(i, i + train_len - 1):\n",
    "        temp[j-i] = Y[j]\n",
    "    output[i] = temp"
   ]
  },
  {
   "cell_type": "code",
   "execution_count": 131,
   "metadata": {},
   "outputs": [],
   "source": [
    "X_train, X_test, Y_train, Y_test = train_test_split(input, Y[50:20000], test_size = 0.2, random_state = 42)"
   ]
  },
  {
   "cell_type": "code",
   "execution_count": 132,
   "metadata": {},
   "outputs": [],
   "source": [
    "def create_baseline():\n",
    "    model = Sequential()\n",
    "    \n",
    "    model.add(Bidirectional(LSTM(64, activation='tanh', kernel_regularizer='l2')))\n",
    "#     model.add(Bidirectional(LSTM(64, activation='tanh')))\n",
    "#     model.add(Bidirectional(LSTM(64, activation='tanh')))\n",
    "#     model.add(Bidirectional(LSTM(64, activation='tanh')))\n",
    "\n",
    "    model.add(Dense(128, activation = 'relu', kernel_regularizer='l2'))\n",
    "    model.add(Dense(5, activation = 'sigmoid', kernel_regularizer='l2'))\n",
    "    \n",
    "    model.compile(loss = 'categorical_crossentropy', optimizer = 'adam', metrics = ['accuracy'])\n",
    "    \n",
    "    return model"
   ]
  },
  {
   "cell_type": "code",
   "execution_count": 133,
   "metadata": {},
   "outputs": [],
   "source": [
    "model = create_baseline()"
   ]
  },
  {
   "cell_type": "code",
   "execution_count": 134,
   "metadata": {},
   "outputs": [
    {
     "name": "stdout",
     "output_type": "stream",
     "text": [
      "Epoch 1/10\n",
      "15960/15960 [==============================] - 37s 2ms/step - loss: 0.4920 - acc: 0.9910\n",
      "Epoch 2/10\n",
      "15960/15960 [==============================] - 36s 2ms/step - loss: 0.1573 - acc: 0.9939\n",
      "Epoch 3/10\n",
      "15960/15960 [==============================] - 35s 2ms/step - loss: 0.1581 - acc: 0.9955\n",
      "Epoch 4/10\n",
      "15960/15960 [==============================] - 35s 2ms/step - loss: 0.1376 - acc: 0.9957\n",
      "Epoch 5/10\n",
      "15960/15960 [==============================] - 35s 2ms/step - loss: 0.1158 - acc: 0.9982\n",
      "Epoch 6/10\n",
      "15960/15960 [==============================] - 34s 2ms/step - loss: 0.1023 - acc: 0.9984\n",
      "Epoch 7/10\n",
      "15960/15960 [==============================] - 35s 2ms/step - loss: 0.1297 - acc: 0.9957\n",
      "Epoch 8/10\n",
      "15960/15960 [==============================] - 35s 2ms/step - loss: 0.1043 - acc: 0.9986\n",
      "Epoch 9/10\n",
      "15960/15960 [==============================] - 35s 2ms/step - loss: 0.1333 - acc: 0.9944\n",
      "Epoch 10/10\n",
      "15960/15960 [==============================] - 35s 2ms/step - loss: 0.1101 - acc: 0.9966\n"
     ]
    },
    {
     "data": {
      "text/plain": [
       "<keras.callbacks.History at 0x1a35941550>"
      ]
     },
     "execution_count": 134,
     "metadata": {},
     "output_type": "execute_result"
    }
   ],
   "source": [
    "model.fit(X_train, Y_train, epochs = 1, verbose = 1)"
   ]
  },
  {
   "cell_type": "code",
   "execution_count": 135,
   "metadata": {},
   "outputs": [
    {
     "name": "stdout",
     "output_type": "stream",
     "text": [
      "_________________________________________________________________\n",
      "Layer (type)                 Output Shape              Param #   \n",
      "=================================================================\n",
      "bidirectional_27 (Bidirectio (None, 128)               43008     \n",
      "_________________________________________________________________\n",
      "dense_29 (Dense)             (None, 128)               16512     \n",
      "_________________________________________________________________\n",
      "dense_30 (Dense)             (None, 5)                 645       \n",
      "=================================================================\n",
      "Total params: 60,165\n",
      "Trainable params: 60,165\n",
      "Non-trainable params: 0\n",
      "_________________________________________________________________\n"
     ]
    }
   ],
   "source": [
    "\n",
    "model.summary()"
   ]
  },
  {
   "cell_type": "code",
   "execution_count": 136,
   "metadata": {},
   "outputs": [
    {
     "data": {
      "text/plain": [
       "array([[3.4114751e-03, 9.5469074e-04, 2.5558493e-05, 1.5450889e-01,\n",
       "        8.0616621e-04],\n",
       "       [3.0349051e-03, 1.1168236e-03, 2.3575652e-05, 1.7142487e-01,\n",
       "        7.2144798e-04],\n",
       "       [7.5324840e-04, 3.6452716e-04, 7.7957113e-04, 4.3224584e-04,\n",
       "        2.5214130e-01],\n",
       "       ...,\n",
       "       [1.3372233e-03, 1.1960189e-03, 3.3721572e-01, 1.4136158e-05,\n",
       "        6.5652956e-04],\n",
       "       [2.9087658e-03, 1.1786586e-03, 2.1938673e-05, 1.8439685e-01,\n",
       "        6.7242235e-04],\n",
       "       [2.8504917e-01, 2.5371115e-05, 1.1337256e-03, 1.2432591e-03,\n",
       "        6.7900470e-04]], dtype=float32)"
      ]
     },
     "execution_count": 136,
     "metadata": {},
     "output_type": "execute_result"
    }
   ],
   "source": [
    "model.predict(X_test)"
   ]
  },
  {
   "cell_type": "code",
   "execution_count": 137,
   "metadata": {},
   "outputs": [
    {
     "name": "stdout",
     "output_type": "stream",
     "text": [
      "[[0. 0. 0. 1. 0.]\n",
      " [0. 0. 0. 1. 0.]\n",
      " [0. 0. 0. 0. 1.]\n",
      " ...\n",
      " [0. 0. 1. 0. 0.]\n",
      " [0. 0. 0. 1. 0.]\n",
      " [1. 0. 0. 0. 0.]]\n"
     ]
    }
   ],
   "source": [
    "print(Y_test)"
   ]
  },
  {
   "cell_type": "code",
   "execution_count": 138,
   "metadata": {},
   "outputs": [
    {
     "name": "stdout",
     "output_type": "stream",
     "text": [
      "acc: 99.85%\n"
     ]
    }
   ],
   "source": [
    "scores = model.evaluate(X_test, Y_test, verbose=0)\n",
    "print(\"%s: %.2f%%\" % (model.metrics_names[1], scores[1]*100))"
   ]
  },
  {
   "cell_type": "code",
   "execution_count": null,
   "metadata": {},
   "outputs": [],
   "source": [
    "# from preprocess_dataset_full import standardised_X as X, dummy_Y as Y"
   ]
  },
  {
   "cell_type": "code",
   "execution_count": null,
   "metadata": {},
   "outputs": [],
   "source": []
  }
 ],
 "metadata": {
  "kernelspec": {
   "display_name": "Python 3",
   "language": "python",
   "name": "python3"
  }
 },
 "nbformat": 4,
 "nbformat_minor": 2
}
